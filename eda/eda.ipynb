{
 "cells": [
  {
   "cell_type": "code",
   "execution_count": 1,
   "metadata": {},
   "outputs": [],
   "source": [
    "import pandas as pd\n",
    "import numpy as np\n",
    "import chardet\n",
    "import matplotlib.pyplot as plt\n",
    "import seaborn as sns\n",
    "import base64\n",
    "from io import BytesIO"
   ]
  },
  {
   "cell_type": "markdown",
   "metadata": {},
   "source": [
    "### Data loading with specfic encoding"
   ]
  },
  {
   "cell_type": "code",
   "execution_count": 2,
   "metadata": {},
   "outputs": [
    {
     "name": "stdout",
     "output_type": "stream",
     "text": [
      "Food: {'encoding': 'UTF-16', 'confidence': 1.0, 'language': ''}\n",
      "Drink: {'encoding': 'utf-8', 'confidence': 0.99, 'language': ''}\n"
     ]
    }
   ],
   "source": [
    "drink_path = './../dataset/starbucks-menu-nutrition-drinks.csv'\n",
    "food_path = './../dataset/starbucks-menu-nutrition-food.csv'\n",
    "\n",
    "with open(food_path, 'rb') as f:\n",
    "    result = chardet.detect(f.read())\n",
    "    print(f'Food: {result}')\n",
    "\n",
    "with open(drink_path, 'rb') as f:\n",
    "    result = chardet.detect(f.read())\n",
    "    print(f'Drink: {result}')\n",
    "\n"
   ]
  },
  {
   "cell_type": "code",
   "execution_count": 3,
   "metadata": {},
   "outputs": [],
   "source": [
    "food = pd.read_csv(food_path, encoding='UTF-16')\n",
    "drink = pd.read_csv(drink_path, encoding='UTF-8')"
   ]
  },
  {
   "cell_type": "markdown",
   "metadata": {},
   "source": [
    "### Basic EDA for Food Menu"
   ]
  },
  {
   "cell_type": "code",
   "execution_count": 4,
   "metadata": {},
   "outputs": [
    {
     "data": {
      "text/html": [
       "<div>\n",
       "<style scoped>\n",
       "    .dataframe tbody tr th:only-of-type {\n",
       "        vertical-align: middle;\n",
       "    }\n",
       "\n",
       "    .dataframe tbody tr th {\n",
       "        vertical-align: top;\n",
       "    }\n",
       "\n",
       "    .dataframe thead th {\n",
       "        text-align: right;\n",
       "    }\n",
       "</style>\n",
       "<table border=\"1\" class=\"dataframe\">\n",
       "  <thead>\n",
       "    <tr style=\"text-align: right;\">\n",
       "      <th></th>\n",
       "      <th>Unnamed: 0</th>\n",
       "      <th>Calories</th>\n",
       "      <th>Fat (g)</th>\n",
       "      <th>Carb. (g)</th>\n",
       "      <th>Fiber (g)</th>\n",
       "      <th>Protein (g)</th>\n",
       "    </tr>\n",
       "  </thead>\n",
       "  <tbody>\n",
       "    <tr>\n",
       "      <th>0</th>\n",
       "      <td>Chonga Bagel</td>\n",
       "      <td>300</td>\n",
       "      <td>5.0</td>\n",
       "      <td>50</td>\n",
       "      <td>3</td>\n",
       "      <td>12</td>\n",
       "    </tr>\n",
       "    <tr>\n",
       "      <th>1</th>\n",
       "      <td>8-Grain Roll</td>\n",
       "      <td>380</td>\n",
       "      <td>6.0</td>\n",
       "      <td>70</td>\n",
       "      <td>7</td>\n",
       "      <td>10</td>\n",
       "    </tr>\n",
       "    <tr>\n",
       "      <th>2</th>\n",
       "      <td>Almond Croissant</td>\n",
       "      <td>410</td>\n",
       "      <td>22.0</td>\n",
       "      <td>45</td>\n",
       "      <td>3</td>\n",
       "      <td>10</td>\n",
       "    </tr>\n",
       "    <tr>\n",
       "      <th>3</th>\n",
       "      <td>Apple Fritter</td>\n",
       "      <td>460</td>\n",
       "      <td>23.0</td>\n",
       "      <td>56</td>\n",
       "      <td>2</td>\n",
       "      <td>7</td>\n",
       "    </tr>\n",
       "    <tr>\n",
       "      <th>4</th>\n",
       "      <td>Banana Nut Bread</td>\n",
       "      <td>420</td>\n",
       "      <td>22.0</td>\n",
       "      <td>52</td>\n",
       "      <td>2</td>\n",
       "      <td>6</td>\n",
       "    </tr>\n",
       "  </tbody>\n",
       "</table>\n",
       "</div>"
      ],
      "text/plain": [
       "         Unnamed: 0   Calories   Fat (g)   Carb. (g)   Fiber (g)   Protein (g)\n",
       "0      Chonga Bagel        300       5.0          50           3            12\n",
       "1      8-Grain Roll        380       6.0          70           7            10\n",
       "2  Almond Croissant        410      22.0          45           3            10\n",
       "3     Apple Fritter        460      23.0          56           2             7\n",
       "4  Banana Nut Bread        420      22.0          52           2             6"
      ]
     },
     "execution_count": 4,
     "metadata": {},
     "output_type": "execute_result"
    }
   ],
   "source": [
    "food.head()"
   ]
  },
  {
   "cell_type": "markdown",
   "metadata": {},
   "source": [
    "### First column name + Noticed empty whitespaces in front of column names"
   ]
  },
  {
   "cell_type": "code",
   "execution_count": 5,
   "metadata": {},
   "outputs": [
    {
     "data": {
      "text/plain": [
       "Index(['Unnamed: 0', ' Calories', ' Fat (g)', ' Carb. (g)', ' Fiber (g)',\n",
       "       ' Protein (g)'],\n",
       "      dtype='object')"
      ]
     },
     "execution_count": 5,
     "metadata": {},
     "output_type": "execute_result"
    }
   ],
   "source": [
    "food.columns"
   ]
  },
  {
   "cell_type": "code",
   "execution_count": 6,
   "metadata": {},
   "outputs": [],
   "source": [
    "food.rename(columns={food.columns[0]: 'Item'}, inplace=True)\n",
    "food.columns = [name.strip() for name in food.columns]"
   ]
  },
  {
   "cell_type": "code",
   "execution_count": 7,
   "metadata": {},
   "outputs": [
    {
     "data": {
      "text/plain": [
       "Index(['Item', 'Calories', 'Fat (g)', 'Carb. (g)', 'Fiber (g)', 'Protein (g)'], dtype='object')"
      ]
     },
     "execution_count": 7,
     "metadata": {},
     "output_type": "execute_result"
    }
   ],
   "source": [
    "food.columns"
   ]
  },
  {
   "cell_type": "markdown",
   "metadata": {},
   "source": [
    "### Consistent Dtype across all rows and columns (113 row all with proper data - int/float) for Food menu"
   ]
  },
  {
   "cell_type": "code",
   "execution_count": 8,
   "metadata": {},
   "outputs": [
    {
     "name": "stdout",
     "output_type": "stream",
     "text": [
      "<class 'pandas.core.frame.DataFrame'>\n",
      "RangeIndex: 113 entries, 0 to 112\n",
      "Data columns (total 6 columns):\n",
      " #   Column       Non-Null Count  Dtype  \n",
      "---  ------       --------------  -----  \n",
      " 0   Item         113 non-null    object \n",
      " 1   Calories     113 non-null    int64  \n",
      " 2   Fat (g)      113 non-null    float64\n",
      " 3   Carb. (g)    113 non-null    int64  \n",
      " 4   Fiber (g)    113 non-null    int64  \n",
      " 5   Protein (g)  113 non-null    int64  \n",
      "dtypes: float64(1), int64(4), object(1)\n",
      "memory usage: 5.4+ KB\n"
     ]
    }
   ],
   "source": [
    "food.info()"
   ]
  },
  {
   "cell_type": "code",
   "execution_count": 9,
   "metadata": {},
   "outputs": [
    {
     "data": {
      "text/plain": [
       "Item           0\n",
       "Calories       0\n",
       "Fat (g)        0\n",
       "Carb. (g)      0\n",
       "Fiber (g)      0\n",
       "Protein (g)    0\n",
       "dtype: int64"
      ]
     },
     "execution_count": 9,
     "metadata": {},
     "output_type": "execute_result"
    }
   ],
   "source": [
    "food.isna().sum()   "
   ]
  },
  {
   "cell_type": "markdown",
   "metadata": {},
   "source": [
    "### Basic description of Food menu (Averages, standard deviations, min/max, 25, 50 and 75 percentile)"
   ]
  },
  {
   "cell_type": "code",
   "execution_count": 10,
   "metadata": {},
   "outputs": [
    {
     "data": {
      "text/html": [
       "<div>\n",
       "<style scoped>\n",
       "    .dataframe tbody tr th:only-of-type {\n",
       "        vertical-align: middle;\n",
       "    }\n",
       "\n",
       "    .dataframe tbody tr th {\n",
       "        vertical-align: top;\n",
       "    }\n",
       "\n",
       "    .dataframe thead th {\n",
       "        text-align: right;\n",
       "    }\n",
       "</style>\n",
       "<table border=\"1\" class=\"dataframe\">\n",
       "  <thead>\n",
       "    <tr style=\"text-align: right;\">\n",
       "      <th></th>\n",
       "      <th>Calories</th>\n",
       "      <th>Fat (g)</th>\n",
       "      <th>Carb. (g)</th>\n",
       "      <th>Fiber (g)</th>\n",
       "      <th>Protein (g)</th>\n",
       "    </tr>\n",
       "  </thead>\n",
       "  <tbody>\n",
       "    <tr>\n",
       "      <th>count</th>\n",
       "      <td>113.000000</td>\n",
       "      <td>113.000000</td>\n",
       "      <td>113.000000</td>\n",
       "      <td>113.000000</td>\n",
       "      <td>113.000000</td>\n",
       "    </tr>\n",
       "    <tr>\n",
       "      <th>mean</th>\n",
       "      <td>356.637168</td>\n",
       "      <td>16.353982</td>\n",
       "      <td>41.486726</td>\n",
       "      <td>2.849558</td>\n",
       "      <td>11.469027</td>\n",
       "    </tr>\n",
       "    <tr>\n",
       "      <th>std</th>\n",
       "      <td>127.710685</td>\n",
       "      <td>8.297397</td>\n",
       "      <td>15.796764</td>\n",
       "      <td>2.888466</td>\n",
       "      <td>8.463230</td>\n",
       "    </tr>\n",
       "    <tr>\n",
       "      <th>min</th>\n",
       "      <td>90.000000</td>\n",
       "      <td>0.000000</td>\n",
       "      <td>5.000000</td>\n",
       "      <td>0.000000</td>\n",
       "      <td>1.000000</td>\n",
       "    </tr>\n",
       "    <tr>\n",
       "      <th>25%</th>\n",
       "      <td>280.000000</td>\n",
       "      <td>9.000000</td>\n",
       "      <td>31.000000</td>\n",
       "      <td>1.000000</td>\n",
       "      <td>5.000000</td>\n",
       "    </tr>\n",
       "    <tr>\n",
       "      <th>50%</th>\n",
       "      <td>360.000000</td>\n",
       "      <td>17.000000</td>\n",
       "      <td>42.000000</td>\n",
       "      <td>2.000000</td>\n",
       "      <td>8.000000</td>\n",
       "    </tr>\n",
       "    <tr>\n",
       "      <th>75%</th>\n",
       "      <td>450.000000</td>\n",
       "      <td>23.000000</td>\n",
       "      <td>53.000000</td>\n",
       "      <td>3.000000</td>\n",
       "      <td>19.000000</td>\n",
       "    </tr>\n",
       "    <tr>\n",
       "      <th>max</th>\n",
       "      <td>650.000000</td>\n",
       "      <td>37.000000</td>\n",
       "      <td>80.000000</td>\n",
       "      <td>21.000000</td>\n",
       "      <td>34.000000</td>\n",
       "    </tr>\n",
       "  </tbody>\n",
       "</table>\n",
       "</div>"
      ],
      "text/plain": [
       "         Calories     Fat (g)   Carb. (g)   Fiber (g)  Protein (g)\n",
       "count  113.000000  113.000000  113.000000  113.000000   113.000000\n",
       "mean   356.637168   16.353982   41.486726    2.849558    11.469027\n",
       "std    127.710685    8.297397   15.796764    2.888466     8.463230\n",
       "min     90.000000    0.000000    5.000000    0.000000     1.000000\n",
       "25%    280.000000    9.000000   31.000000    1.000000     5.000000\n",
       "50%    360.000000   17.000000   42.000000    2.000000     8.000000\n",
       "75%    450.000000   23.000000   53.000000    3.000000    19.000000\n",
       "max    650.000000   37.000000   80.000000   21.000000    34.000000"
      ]
     },
     "execution_count": 10,
     "metadata": {},
     "output_type": "execute_result"
    }
   ],
   "source": [
    "food.describe()"
   ]
  },
  {
   "cell_type": "code",
   "execution_count": 11,
   "metadata": {},
   "outputs": [
    {
     "data": {
      "text/html": [
       "<div>\n",
       "<style scoped>\n",
       "    .dataframe tbody tr th:only-of-type {\n",
       "        vertical-align: middle;\n",
       "    }\n",
       "\n",
       "    .dataframe tbody tr th {\n",
       "        vertical-align: top;\n",
       "    }\n",
       "\n",
       "    .dataframe thead th {\n",
       "        text-align: right;\n",
       "    }\n",
       "</style>\n",
       "<table border=\"1\" class=\"dataframe\">\n",
       "  <thead>\n",
       "    <tr style=\"text-align: right;\">\n",
       "      <th></th>\n",
       "      <th>Item</th>\n",
       "      <th>Calories</th>\n",
       "      <th>Fat (g)</th>\n",
       "      <th>Carb. (g)</th>\n",
       "      <th>Fiber (g)</th>\n",
       "      <th>Protein (g)</th>\n",
       "    </tr>\n",
       "  </thead>\n",
       "  <tbody>\n",
       "    <tr>\n",
       "      <th>0</th>\n",
       "      <td>Chonga Bagel</td>\n",
       "      <td>300</td>\n",
       "      <td>5.0</td>\n",
       "      <td>50</td>\n",
       "      <td>3</td>\n",
       "      <td>12</td>\n",
       "    </tr>\n",
       "    <tr>\n",
       "      <th>1</th>\n",
       "      <td>8-Grain Roll</td>\n",
       "      <td>380</td>\n",
       "      <td>6.0</td>\n",
       "      <td>70</td>\n",
       "      <td>7</td>\n",
       "      <td>10</td>\n",
       "    </tr>\n",
       "    <tr>\n",
       "      <th>2</th>\n",
       "      <td>Almond Croissant</td>\n",
       "      <td>410</td>\n",
       "      <td>22.0</td>\n",
       "      <td>45</td>\n",
       "      <td>3</td>\n",
       "      <td>10</td>\n",
       "    </tr>\n",
       "    <tr>\n",
       "      <th>3</th>\n",
       "      <td>Apple Fritter</td>\n",
       "      <td>460</td>\n",
       "      <td>23.0</td>\n",
       "      <td>56</td>\n",
       "      <td>2</td>\n",
       "      <td>7</td>\n",
       "    </tr>\n",
       "    <tr>\n",
       "      <th>4</th>\n",
       "      <td>Banana Nut Bread</td>\n",
       "      <td>420</td>\n",
       "      <td>22.0</td>\n",
       "      <td>52</td>\n",
       "      <td>2</td>\n",
       "      <td>6</td>\n",
       "    </tr>\n",
       "    <tr>\n",
       "      <th>...</th>\n",
       "      <td>...</td>\n",
       "      <td>...</td>\n",
       "      <td>...</td>\n",
       "      <td>...</td>\n",
       "      <td>...</td>\n",
       "      <td>...</td>\n",
       "    </tr>\n",
       "    <tr>\n",
       "      <th>108</th>\n",
       "      <td>Justin's Chocolate Hazelnut Butter</td>\n",
       "      <td>180</td>\n",
       "      <td>14.0</td>\n",
       "      <td>12</td>\n",
       "      <td>3</td>\n",
       "      <td>4</td>\n",
       "    </tr>\n",
       "    <tr>\n",
       "      <th>109</th>\n",
       "      <td>Justin's Classic Almond Butter</td>\n",
       "      <td>190</td>\n",
       "      <td>18.0</td>\n",
       "      <td>6</td>\n",
       "      <td>3</td>\n",
       "      <td>7</td>\n",
       "    </tr>\n",
       "    <tr>\n",
       "      <th>110</th>\n",
       "      <td>Lemon Chiffon Yogurt</td>\n",
       "      <td>340</td>\n",
       "      <td>13.0</td>\n",
       "      <td>38</td>\n",
       "      <td>0</td>\n",
       "      <td>18</td>\n",
       "    </tr>\n",
       "    <tr>\n",
       "      <th>111</th>\n",
       "      <td>Organic Avocado (Spread)</td>\n",
       "      <td>90</td>\n",
       "      <td>8.0</td>\n",
       "      <td>5</td>\n",
       "      <td>4</td>\n",
       "      <td>1</td>\n",
       "    </tr>\n",
       "    <tr>\n",
       "      <th>112</th>\n",
       "      <td>Seasonal Fruit Blend</td>\n",
       "      <td>90</td>\n",
       "      <td>0.0</td>\n",
       "      <td>24</td>\n",
       "      <td>4</td>\n",
       "      <td>1</td>\n",
       "    </tr>\n",
       "  </tbody>\n",
       "</table>\n",
       "<p>113 rows × 6 columns</p>\n",
       "</div>"
      ],
      "text/plain": [
       "                                   Item  Calories  Fat (g)  Carb. (g)  \\\n",
       "0                          Chonga Bagel       300      5.0         50   \n",
       "1                          8-Grain Roll       380      6.0         70   \n",
       "2                      Almond Croissant       410     22.0         45   \n",
       "3                         Apple Fritter       460     23.0         56   \n",
       "4                      Banana Nut Bread       420     22.0         52   \n",
       "..                                  ...       ...      ...        ...   \n",
       "108  Justin's Chocolate Hazelnut Butter       180     14.0         12   \n",
       "109      Justin's Classic Almond Butter       190     18.0          6   \n",
       "110                Lemon Chiffon Yogurt       340     13.0         38   \n",
       "111            Organic Avocado (Spread)        90      8.0          5   \n",
       "112                Seasonal Fruit Blend        90      0.0         24   \n",
       "\n",
       "     Fiber (g)  Protein (g)  \n",
       "0            3           12  \n",
       "1            7           10  \n",
       "2            3           10  \n",
       "3            2            7  \n",
       "4            2            6  \n",
       "..         ...          ...  \n",
       "108          3            4  \n",
       "109          3            7  \n",
       "110          0           18  \n",
       "111          4            1  \n",
       "112          4            1  \n",
       "\n",
       "[113 rows x 6 columns]"
      ]
     },
     "execution_count": 11,
     "metadata": {},
     "output_type": "execute_result"
    }
   ],
   "source": [
    "food"
   ]
  },
  {
   "cell_type": "code",
   "execution_count": 12,
   "metadata": {},
   "outputs": [
    {
     "data": {
      "text/plain": [
       "Index(['Unnamed: 0', 'Calories', 'Fat (g)', 'Carb. (g)', 'Fiber (g)',\n",
       "       'Protein', 'Sodium'],\n",
       "      dtype='object')"
      ]
     },
     "execution_count": 12,
     "metadata": {},
     "output_type": "execute_result"
    }
   ],
   "source": [
    "drink.columns"
   ]
  },
  {
   "cell_type": "code",
   "execution_count": 13,
   "metadata": {},
   "outputs": [
    {
     "data": {
      "text/plain": [
       "Index(['Item', 'Calories', 'Fat (g)', 'Carb. (g)', 'Fiber (g)', 'Protein (g)'], dtype='object')"
      ]
     },
     "execution_count": 13,
     "metadata": {},
     "output_type": "execute_result"
    }
   ],
   "source": [
    "food.columns"
   ]
  },
  {
   "cell_type": "markdown",
   "metadata": {},
   "source": [
    "### Basic EDA for Drink Menu"
   ]
  },
  {
   "cell_type": "code",
   "execution_count": 14,
   "metadata": {},
   "outputs": [
    {
     "data": {
      "text/html": [
       "<div>\n",
       "<style scoped>\n",
       "    .dataframe tbody tr th:only-of-type {\n",
       "        vertical-align: middle;\n",
       "    }\n",
       "\n",
       "    .dataframe tbody tr th {\n",
       "        vertical-align: top;\n",
       "    }\n",
       "\n",
       "    .dataframe thead th {\n",
       "        text-align: right;\n",
       "    }\n",
       "</style>\n",
       "<table border=\"1\" class=\"dataframe\">\n",
       "  <thead>\n",
       "    <tr style=\"text-align: right;\">\n",
       "      <th></th>\n",
       "      <th>Unnamed: 0</th>\n",
       "      <th>Calories</th>\n",
       "      <th>Fat (g)</th>\n",
       "      <th>Carb. (g)</th>\n",
       "      <th>Fiber (g)</th>\n",
       "      <th>Protein</th>\n",
       "      <th>Sodium</th>\n",
       "    </tr>\n",
       "  </thead>\n",
       "  <tbody>\n",
       "    <tr>\n",
       "      <th>0</th>\n",
       "      <td>Cool Lime Starbucks Refreshers™ Beverage</td>\n",
       "      <td>45</td>\n",
       "      <td>0</td>\n",
       "      <td>11</td>\n",
       "      <td>0</td>\n",
       "      <td>0</td>\n",
       "      <td>10</td>\n",
       "    </tr>\n",
       "    <tr>\n",
       "      <th>1</th>\n",
       "      <td>Ombré Pink Drink</td>\n",
       "      <td>-</td>\n",
       "      <td>-</td>\n",
       "      <td>-</td>\n",
       "      <td>-</td>\n",
       "      <td>-</td>\n",
       "      <td>-</td>\n",
       "    </tr>\n",
       "    <tr>\n",
       "      <th>2</th>\n",
       "      <td>Pink Drink</td>\n",
       "      <td>-</td>\n",
       "      <td>-</td>\n",
       "      <td>-</td>\n",
       "      <td>-</td>\n",
       "      <td>-</td>\n",
       "      <td>-</td>\n",
       "    </tr>\n",
       "    <tr>\n",
       "      <th>3</th>\n",
       "      <td>Strawberry Acai Starbucks Refreshers™ Beverage</td>\n",
       "      <td>80</td>\n",
       "      <td>0</td>\n",
       "      <td>18</td>\n",
       "      <td>1</td>\n",
       "      <td>0</td>\n",
       "      <td>10</td>\n",
       "    </tr>\n",
       "    <tr>\n",
       "      <th>4</th>\n",
       "      <td>Very Berry Hibiscus Starbucks Refreshers™ Beve...</td>\n",
       "      <td>60</td>\n",
       "      <td>0</td>\n",
       "      <td>14</td>\n",
       "      <td>1</td>\n",
       "      <td>0</td>\n",
       "      <td>10</td>\n",
       "    </tr>\n",
       "  </tbody>\n",
       "</table>\n",
       "</div>"
      ],
      "text/plain": [
       "                                          Unnamed: 0 Calories Fat (g)  \\\n",
       "0           Cool Lime Starbucks Refreshers™ Beverage       45       0   \n",
       "1                                   Ombré Pink Drink        -       -   \n",
       "2                                         Pink Drink        -       -   \n",
       "3     Strawberry Acai Starbucks Refreshers™ Beverage       80       0   \n",
       "4  Very Berry Hibiscus Starbucks Refreshers™ Beve...       60       0   \n",
       "\n",
       "  Carb. (g) Fiber (g) Protein Sodium  \n",
       "0        11         0       0     10  \n",
       "1         -         -       -      -  \n",
       "2         -         -       -      -  \n",
       "3        18         1       0     10  \n",
       "4        14         1       0     10  "
      ]
     },
     "execution_count": 14,
     "metadata": {},
     "output_type": "execute_result"
    }
   ],
   "source": [
    "drink.head()"
   ]
  },
  {
   "cell_type": "code",
   "execution_count": 15,
   "metadata": {},
   "outputs": [],
   "source": [
    "drink.rename(columns={drink.columns[0]: 'Item'}, inplace=True)"
   ]
  },
  {
   "cell_type": "code",
   "execution_count": 16,
   "metadata": {},
   "outputs": [
    {
     "data": {
      "text/plain": [
       "Index(['Item', 'Calories', 'Fat (g)', 'Carb. (g)', 'Fiber (g)', 'Protein',\n",
       "       'Sodium'],\n",
       "      dtype='object')"
      ]
     },
     "execution_count": 16,
     "metadata": {},
     "output_type": "execute_result"
    }
   ],
   "source": [
    "drink.columns"
   ]
  },
  {
   "cell_type": "markdown",
   "metadata": {},
   "source": [
    "### Incorrect/Inconsistent Columns\n",
    "1. Incorrect Dtype across columns (object data types present in columns 1 to 6 \n",
    "-> supposed to be int/float) for Drink menu\n",
    "\n",
    "2. Inconsistent Column naming (units missing for Protein and Sodium)\n",
    "--> Remove units for all columns to standarise \n",
    "(Assumption made: Unit=grams for all columns other than Calories)\n"
   ]
  },
  {
   "cell_type": "code",
   "execution_count": 17,
   "metadata": {},
   "outputs": [
    {
     "name": "stdout",
     "output_type": "stream",
     "text": [
      "<class 'pandas.core.frame.DataFrame'>\n",
      "RangeIndex: 177 entries, 0 to 176\n",
      "Data columns (total 7 columns):\n",
      " #   Column     Non-Null Count  Dtype \n",
      "---  ------     --------------  ----- \n",
      " 0   Item       177 non-null    object\n",
      " 1   Calories   177 non-null    object\n",
      " 2   Fat (g)    177 non-null    object\n",
      " 3   Carb. (g)  177 non-null    object\n",
      " 4   Fiber (g)  177 non-null    object\n",
      " 5   Protein    177 non-null    object\n",
      " 6   Sodium     177 non-null    object\n",
      "dtypes: object(7)\n",
      "memory usage: 9.8+ KB\n"
     ]
    }
   ],
   "source": [
    "drink.info()"
   ]
  },
  {
   "cell_type": "markdown",
   "metadata": {},
   "source": [
    "### Data preprocessing function for csv files "
   ]
  },
  {
   "cell_type": "code",
   "execution_count": 18,
   "metadata": {},
   "outputs": [],
   "source": [
    "def clean_df(df):\n",
    "    \"\"\"\n",
    "    This function cleans the dataframe by:\n",
    "    1. Rename the first column to 'Item'\n",
    "    2. Strip leading/trailing whitespaces from column names\n",
    "    3. Remove units from column names\n",
    "    4. Converting all columns to numeric\n",
    "    5. Removing rows with NaN values\n",
    "    6. Removing duplicate rows (if any)\n",
    "    7. Removing rows with all 0 values\n",
    "    \"\"\"\n",
    "    df.rename(columns={df.columns[0]: 'Item'}, inplace=True) #Rename the first column to 'Item'\n",
    "    df.columns = [name.strip().split(' ')[0] for name in df.columns] #Strip leading/trailing whitespaces from column names + Remove units from column names\n",
    "    numeric = df.iloc[:, 1:].apply(lambda x: pd.to_numeric(x, errors='coerce')) #Convert non-item columns to numeric (coerce errors to NaN)\n",
    "    df = pd.concat([df['Item'], numeric], axis=1) #Concatenate the 'Item' column with the numeric columns\n",
    "    df.dropna(inplace=True) \n",
    "    df.drop_duplicates(inplace=True)\n",
    "    df = df[[not all(row == 0) for row in df.iloc[:, 1:].values]] #Remove rows with all 0 values\n",
    "\n",
    "    return df"
   ]
  },
  {
   "cell_type": "code",
   "execution_count": 19,
   "metadata": {},
   "outputs": [],
   "source": [
    "drink = clean_df(drink)"
   ]
  },
  {
   "cell_type": "code",
   "execution_count": 20,
   "metadata": {},
   "outputs": [
    {
     "name": "stdout",
     "output_type": "stream",
     "text": [
      "<class 'pandas.core.frame.DataFrame'>\n",
      "Index: 73 entries, 0 to 173\n",
      "Data columns (total 7 columns):\n",
      " #   Column    Non-Null Count  Dtype  \n",
      "---  ------    --------------  -----  \n",
      " 0   Item      73 non-null     object \n",
      " 1   Calories  73 non-null     float64\n",
      " 2   Fat       73 non-null     float64\n",
      " 3   Carb.     73 non-null     float64\n",
      " 4   Fiber     73 non-null     float64\n",
      " 5   Protein   73 non-null     float64\n",
      " 6   Sodium    73 non-null     float64\n",
      "dtypes: float64(6), object(1)\n",
      "memory usage: 4.6+ KB\n"
     ]
    }
   ],
   "source": [
    "drink.info()"
   ]
  },
  {
   "cell_type": "code",
   "execution_count": 21,
   "metadata": {},
   "outputs": [
    {
     "data": {
      "text/html": [
       "<div>\n",
       "<style scoped>\n",
       "    .dataframe tbody tr th:only-of-type {\n",
       "        vertical-align: middle;\n",
       "    }\n",
       "\n",
       "    .dataframe tbody tr th {\n",
       "        vertical-align: top;\n",
       "    }\n",
       "\n",
       "    .dataframe thead th {\n",
       "        text-align: right;\n",
       "    }\n",
       "</style>\n",
       "<table border=\"1\" class=\"dataframe\">\n",
       "  <thead>\n",
       "    <tr style=\"text-align: right;\">\n",
       "      <th></th>\n",
       "      <th>Calories</th>\n",
       "      <th>Fat</th>\n",
       "      <th>Carb.</th>\n",
       "      <th>Fiber</th>\n",
       "      <th>Protein</th>\n",
       "      <th>Sodium</th>\n",
       "    </tr>\n",
       "  </thead>\n",
       "  <tbody>\n",
       "    <tr>\n",
       "      <th>count</th>\n",
       "      <td>73.000000</td>\n",
       "      <td>73.000000</td>\n",
       "      <td>73.000000</td>\n",
       "      <td>73.000000</td>\n",
       "      <td>73.000000</td>\n",
       "      <td>73.000000</td>\n",
       "    </tr>\n",
       "    <tr>\n",
       "      <th>mean</th>\n",
       "      <td>140.616438</td>\n",
       "      <td>2.746575</td>\n",
       "      <td>24.589041</td>\n",
       "      <td>0.561644</td>\n",
       "      <td>4.863014</td>\n",
       "      <td>65.753425</td>\n",
       "    </tr>\n",
       "    <tr>\n",
       "      <th>std</th>\n",
       "      <td>101.584479</td>\n",
       "      <td>4.182572</td>\n",
       "      <td>15.994648</td>\n",
       "      <td>1.572209</td>\n",
       "      <td>5.996098</td>\n",
       "      <td>72.147954</td>\n",
       "    </tr>\n",
       "    <tr>\n",
       "      <th>min</th>\n",
       "      <td>5.000000</td>\n",
       "      <td>0.000000</td>\n",
       "      <td>0.000000</td>\n",
       "      <td>0.000000</td>\n",
       "      <td>0.000000</td>\n",
       "      <td>0.000000</td>\n",
       "    </tr>\n",
       "    <tr>\n",
       "      <th>25%</th>\n",
       "      <td>60.000000</td>\n",
       "      <td>0.000000</td>\n",
       "      <td>13.000000</td>\n",
       "      <td>0.000000</td>\n",
       "      <td>0.000000</td>\n",
       "      <td>10.000000</td>\n",
       "    </tr>\n",
       "    <tr>\n",
       "      <th>50%</th>\n",
       "      <td>130.000000</td>\n",
       "      <td>0.000000</td>\n",
       "      <td>24.000000</td>\n",
       "      <td>0.000000</td>\n",
       "      <td>1.000000</td>\n",
       "      <td>15.000000</td>\n",
       "    </tr>\n",
       "    <tr>\n",
       "      <th>75%</th>\n",
       "      <td>200.000000</td>\n",
       "      <td>5.000000</td>\n",
       "      <td>35.000000</td>\n",
       "      <td>0.000000</td>\n",
       "      <td>10.000000</td>\n",
       "      <td>135.000000</td>\n",
       "    </tr>\n",
       "    <tr>\n",
       "      <th>max</th>\n",
       "      <td>430.000000</td>\n",
       "      <td>26.000000</td>\n",
       "      <td>64.000000</td>\n",
       "      <td>8.000000</td>\n",
       "      <td>20.000000</td>\n",
       "      <td>240.000000</td>\n",
       "    </tr>\n",
       "  </tbody>\n",
       "</table>\n",
       "</div>"
      ],
      "text/plain": [
       "         Calories        Fat      Carb.      Fiber    Protein      Sodium\n",
       "count   73.000000  73.000000  73.000000  73.000000  73.000000   73.000000\n",
       "mean   140.616438   2.746575  24.589041   0.561644   4.863014   65.753425\n",
       "std    101.584479   4.182572  15.994648   1.572209   5.996098   72.147954\n",
       "min      5.000000   0.000000   0.000000   0.000000   0.000000    0.000000\n",
       "25%     60.000000   0.000000  13.000000   0.000000   0.000000   10.000000\n",
       "50%    130.000000   0.000000  24.000000   0.000000   1.000000   15.000000\n",
       "75%    200.000000   5.000000  35.000000   0.000000  10.000000  135.000000\n",
       "max    430.000000  26.000000  64.000000   8.000000  20.000000  240.000000"
      ]
     },
     "execution_count": 21,
     "metadata": {},
     "output_type": "execute_result"
    }
   ],
   "source": [
    "drink.describe()"
   ]
  }
 ],
 "metadata": {
  "kernelspec": {
   "display_name": "venv",
   "language": "python",
   "name": "python3"
  },
  "language_info": {
   "codemirror_mode": {
    "name": "ipython",
    "version": 3
   },
   "file_extension": ".py",
   "mimetype": "text/x-python",
   "name": "python",
   "nbconvert_exporter": "python",
   "pygments_lexer": "ipython3",
   "version": "3.12.2"
  }
 },
 "nbformat": 4,
 "nbformat_minor": 2
}
